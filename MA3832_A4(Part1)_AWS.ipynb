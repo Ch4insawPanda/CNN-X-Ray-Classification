{
 "cells": [
  {
   "cell_type": "markdown",
   "id": "52a9f952",
   "metadata": {},
   "source": [
    "# MA3832 Assignment 4 - Capstone (Data Wrangling & Proposed Model)\n",
    "Done By: Josiah Teh"
   ]
  },
  {
   "cell_type": "markdown",
   "id": "360d40ff",
   "metadata": {},
   "source": [
    "## AWS Setup"
   ]
  },
  {
   "cell_type": "code",
   "execution_count": 1,
   "id": "64998bfd",
   "metadata": {},
   "outputs": [
    {
     "name": "stdout",
     "output_type": "stream",
     "text": [
      "total 868\n",
      "drwxrwxr-x 6 ec2-user ec2-user   4096 Jan 31 07:03 COVID-19_Radiography_Dataset\n",
      "drwxrwxr-x 2 ec2-user ec2-user   4096 Jan 31 07:10 data\n",
      "-rw-rw-r-- 1 ec2-user ec2-user   5267 Jan 31 14:36 MA3832_Capstone_Model.py\n",
      "-rw-rw-r-- 1 ec2-user ec2-user 868841 Jan 31 14:35 MA3832_ProposedModel.ipynb\n"
     ]
    }
   ],
   "source": [
    "%%sh\n",
    "ls -l"
   ]
  },
  {
   "cell_type": "code",
   "execution_count": 2,
   "id": "262441a4",
   "metadata": {},
   "outputs": [
    {
     "name": "stderr",
     "output_type": "stream",
     "text": [
      "chown: cannot access ‘lost+found’: No such file or directory\n",
      "chgrp: cannot access ‘lost+found’: No such file or directory\n"
     ]
    },
    {
     "ename": "CalledProcessError",
     "evalue": "Command 'b'sudo chown ec2-user lost+found\\nsudo chgrp ec2-user lost+found\\n'' returned non-zero exit status 1.",
     "output_type": "error",
     "traceback": [
      "\u001b[0;31m---------------------------------------------------------------------------\u001b[0m",
      "\u001b[0;31mCalledProcessError\u001b[0m                        Traceback (most recent call last)",
      "\u001b[0;32m/tmp/ipykernel_6081/432089076.py\u001b[0m in \u001b[0;36m<cell line: 1>\u001b[0;34m()\u001b[0m\n\u001b[0;32m----> 1\u001b[0;31m \u001b[0mget_ipython\u001b[0m\u001b[0;34m(\u001b[0m\u001b[0;34m)\u001b[0m\u001b[0;34m.\u001b[0m\u001b[0mrun_cell_magic\u001b[0m\u001b[0;34m(\u001b[0m\u001b[0;34m'sh'\u001b[0m\u001b[0;34m,\u001b[0m \u001b[0;34m''\u001b[0m\u001b[0;34m,\u001b[0m \u001b[0;34m'sudo chown ec2-user lost+found\\nsudo chgrp ec2-user lost+found\\n'\u001b[0m\u001b[0;34m)\u001b[0m\u001b[0;34m\u001b[0m\u001b[0;34m\u001b[0m\u001b[0m\n\u001b[0m",
      "\u001b[0;32m~/anaconda3/envs/tensorflow2_p310/lib/python3.10/site-packages/IPython/core/interactiveshell.py\u001b[0m in \u001b[0;36mrun_cell_magic\u001b[0;34m(self, magic_name, line, cell)\u001b[0m\n\u001b[1;32m   2470\u001b[0m             \u001b[0;32mwith\u001b[0m \u001b[0mself\u001b[0m\u001b[0;34m.\u001b[0m\u001b[0mbuiltin_trap\u001b[0m\u001b[0;34m:\u001b[0m\u001b[0;34m\u001b[0m\u001b[0;34m\u001b[0m\u001b[0m\n\u001b[1;32m   2471\u001b[0m                 \u001b[0margs\u001b[0m \u001b[0;34m=\u001b[0m \u001b[0;34m(\u001b[0m\u001b[0mmagic_arg_s\u001b[0m\u001b[0;34m,\u001b[0m \u001b[0mcell\u001b[0m\u001b[0;34m)\u001b[0m\u001b[0;34m\u001b[0m\u001b[0;34m\u001b[0m\u001b[0m\n\u001b[0;32m-> 2472\u001b[0;31m                 \u001b[0mresult\u001b[0m \u001b[0;34m=\u001b[0m \u001b[0mfn\u001b[0m\u001b[0;34m(\u001b[0m\u001b[0;34m*\u001b[0m\u001b[0margs\u001b[0m\u001b[0;34m,\u001b[0m \u001b[0;34m**\u001b[0m\u001b[0mkwargs\u001b[0m\u001b[0;34m)\u001b[0m\u001b[0;34m\u001b[0m\u001b[0;34m\u001b[0m\u001b[0m\n\u001b[0m\u001b[1;32m   2473\u001b[0m             \u001b[0;32mreturn\u001b[0m \u001b[0mresult\u001b[0m\u001b[0;34m\u001b[0m\u001b[0;34m\u001b[0m\u001b[0m\n\u001b[1;32m   2474\u001b[0m \u001b[0;34m\u001b[0m\u001b[0m\n",
      "\u001b[0;32m~/anaconda3/envs/tensorflow2_p310/lib/python3.10/site-packages/IPython/core/magics/script.py\u001b[0m in \u001b[0;36mnamed_script_magic\u001b[0;34m(line, cell)\u001b[0m\n\u001b[1;32m    140\u001b[0m             \u001b[0;32melse\u001b[0m\u001b[0;34m:\u001b[0m\u001b[0;34m\u001b[0m\u001b[0;34m\u001b[0m\u001b[0m\n\u001b[1;32m    141\u001b[0m                 \u001b[0mline\u001b[0m \u001b[0;34m=\u001b[0m \u001b[0mscript\u001b[0m\u001b[0;34m\u001b[0m\u001b[0;34m\u001b[0m\u001b[0m\n\u001b[0;32m--> 142\u001b[0;31m             \u001b[0;32mreturn\u001b[0m \u001b[0mself\u001b[0m\u001b[0;34m.\u001b[0m\u001b[0mshebang\u001b[0m\u001b[0;34m(\u001b[0m\u001b[0mline\u001b[0m\u001b[0;34m,\u001b[0m \u001b[0mcell\u001b[0m\u001b[0;34m)\u001b[0m\u001b[0;34m\u001b[0m\u001b[0;34m\u001b[0m\u001b[0m\n\u001b[0m\u001b[1;32m    143\u001b[0m \u001b[0;34m\u001b[0m\u001b[0m\n\u001b[1;32m    144\u001b[0m         \u001b[0;31m# write a basic docstring:\u001b[0m\u001b[0;34m\u001b[0m\u001b[0;34m\u001b[0m\u001b[0m\n",
      "\u001b[0;32m~/anaconda3/envs/tensorflow2_p310/lib/python3.10/site-packages/decorator.py\u001b[0m in \u001b[0;36mfun\u001b[0;34m(*args, **kw)\u001b[0m\n\u001b[1;32m    230\u001b[0m             \u001b[0;32mif\u001b[0m \u001b[0;32mnot\u001b[0m \u001b[0mkwsyntax\u001b[0m\u001b[0;34m:\u001b[0m\u001b[0;34m\u001b[0m\u001b[0;34m\u001b[0m\u001b[0m\n\u001b[1;32m    231\u001b[0m                 \u001b[0margs\u001b[0m\u001b[0;34m,\u001b[0m \u001b[0mkw\u001b[0m \u001b[0;34m=\u001b[0m \u001b[0mfix\u001b[0m\u001b[0;34m(\u001b[0m\u001b[0margs\u001b[0m\u001b[0;34m,\u001b[0m \u001b[0mkw\u001b[0m\u001b[0;34m,\u001b[0m \u001b[0msig\u001b[0m\u001b[0;34m)\u001b[0m\u001b[0;34m\u001b[0m\u001b[0;34m\u001b[0m\u001b[0m\n\u001b[0;32m--> 232\u001b[0;31m             \u001b[0;32mreturn\u001b[0m \u001b[0mcaller\u001b[0m\u001b[0;34m(\u001b[0m\u001b[0mfunc\u001b[0m\u001b[0;34m,\u001b[0m \u001b[0;34m*\u001b[0m\u001b[0;34m(\u001b[0m\u001b[0mextras\u001b[0m \u001b[0;34m+\u001b[0m \u001b[0margs\u001b[0m\u001b[0;34m)\u001b[0m\u001b[0;34m,\u001b[0m \u001b[0;34m**\u001b[0m\u001b[0mkw\u001b[0m\u001b[0;34m)\u001b[0m\u001b[0;34m\u001b[0m\u001b[0;34m\u001b[0m\u001b[0m\n\u001b[0m\u001b[1;32m    233\u001b[0m     \u001b[0mfun\u001b[0m\u001b[0;34m.\u001b[0m\u001b[0m__name__\u001b[0m \u001b[0;34m=\u001b[0m \u001b[0mfunc\u001b[0m\u001b[0;34m.\u001b[0m\u001b[0m__name__\u001b[0m\u001b[0;34m\u001b[0m\u001b[0;34m\u001b[0m\u001b[0m\n\u001b[1;32m    234\u001b[0m     \u001b[0mfun\u001b[0m\u001b[0;34m.\u001b[0m\u001b[0m__doc__\u001b[0m \u001b[0;34m=\u001b[0m \u001b[0mfunc\u001b[0m\u001b[0;34m.\u001b[0m\u001b[0m__doc__\u001b[0m\u001b[0;34m\u001b[0m\u001b[0;34m\u001b[0m\u001b[0m\n",
      "\u001b[0;32m~/anaconda3/envs/tensorflow2_p310/lib/python3.10/site-packages/IPython/core/magic.py\u001b[0m in \u001b[0;36m<lambda>\u001b[0;34m(f, *a, **k)\u001b[0m\n\u001b[1;32m    185\u001b[0m     \u001b[0;31m# but it's overkill for just that one bit of state.\u001b[0m\u001b[0;34m\u001b[0m\u001b[0;34m\u001b[0m\u001b[0m\n\u001b[1;32m    186\u001b[0m     \u001b[0;32mdef\u001b[0m \u001b[0mmagic_deco\u001b[0m\u001b[0;34m(\u001b[0m\u001b[0marg\u001b[0m\u001b[0;34m)\u001b[0m\u001b[0;34m:\u001b[0m\u001b[0;34m\u001b[0m\u001b[0;34m\u001b[0m\u001b[0m\n\u001b[0;32m--> 187\u001b[0;31m         \u001b[0mcall\u001b[0m \u001b[0;34m=\u001b[0m \u001b[0;32mlambda\u001b[0m \u001b[0mf\u001b[0m\u001b[0;34m,\u001b[0m \u001b[0;34m*\u001b[0m\u001b[0ma\u001b[0m\u001b[0;34m,\u001b[0m \u001b[0;34m**\u001b[0m\u001b[0mk\u001b[0m\u001b[0;34m:\u001b[0m \u001b[0mf\u001b[0m\u001b[0;34m(\u001b[0m\u001b[0;34m*\u001b[0m\u001b[0ma\u001b[0m\u001b[0;34m,\u001b[0m \u001b[0;34m**\u001b[0m\u001b[0mk\u001b[0m\u001b[0;34m)\u001b[0m\u001b[0;34m\u001b[0m\u001b[0;34m\u001b[0m\u001b[0m\n\u001b[0m\u001b[1;32m    188\u001b[0m \u001b[0;34m\u001b[0m\u001b[0m\n\u001b[1;32m    189\u001b[0m         \u001b[0;32mif\u001b[0m \u001b[0mcallable\u001b[0m\u001b[0;34m(\u001b[0m\u001b[0marg\u001b[0m\u001b[0;34m)\u001b[0m\u001b[0;34m:\u001b[0m\u001b[0;34m\u001b[0m\u001b[0;34m\u001b[0m\u001b[0m\n",
      "\u001b[0;32m~/anaconda3/envs/tensorflow2_p310/lib/python3.10/site-packages/IPython/core/magics/script.py\u001b[0m in \u001b[0;36mshebang\u001b[0;34m(self, line, cell)\u001b[0m\n\u001b[1;32m    243\u001b[0m             \u001b[0msys\u001b[0m\u001b[0;34m.\u001b[0m\u001b[0mstderr\u001b[0m\u001b[0;34m.\u001b[0m\u001b[0mflush\u001b[0m\u001b[0;34m(\u001b[0m\u001b[0;34m)\u001b[0m\u001b[0;34m\u001b[0m\u001b[0;34m\u001b[0m\u001b[0m\n\u001b[1;32m    244\u001b[0m         \u001b[0;32mif\u001b[0m \u001b[0margs\u001b[0m\u001b[0;34m.\u001b[0m\u001b[0mraise_error\u001b[0m \u001b[0;32mand\u001b[0m \u001b[0mp\u001b[0m\u001b[0;34m.\u001b[0m\u001b[0mreturncode\u001b[0m\u001b[0;34m!=\u001b[0m\u001b[0;36m0\u001b[0m\u001b[0;34m:\u001b[0m\u001b[0;34m\u001b[0m\u001b[0;34m\u001b[0m\u001b[0m\n\u001b[0;32m--> 245\u001b[0;31m             \u001b[0;32mraise\u001b[0m \u001b[0mCalledProcessError\u001b[0m\u001b[0;34m(\u001b[0m\u001b[0mp\u001b[0m\u001b[0;34m.\u001b[0m\u001b[0mreturncode\u001b[0m\u001b[0;34m,\u001b[0m \u001b[0mcell\u001b[0m\u001b[0;34m,\u001b[0m \u001b[0moutput\u001b[0m\u001b[0;34m=\u001b[0m\u001b[0mout\u001b[0m\u001b[0;34m,\u001b[0m \u001b[0mstderr\u001b[0m\u001b[0;34m=\u001b[0m\u001b[0merr\u001b[0m\u001b[0;34m)\u001b[0m\u001b[0;34m\u001b[0m\u001b[0;34m\u001b[0m\u001b[0m\n\u001b[0m\u001b[1;32m    246\u001b[0m \u001b[0;34m\u001b[0m\u001b[0m\n\u001b[1;32m    247\u001b[0m     \u001b[0;32mdef\u001b[0m \u001b[0m_run_script\u001b[0m\u001b[0;34m(\u001b[0m\u001b[0mself\u001b[0m\u001b[0;34m,\u001b[0m \u001b[0mp\u001b[0m\u001b[0;34m,\u001b[0m \u001b[0mcell\u001b[0m\u001b[0;34m,\u001b[0m \u001b[0mto_close\u001b[0m\u001b[0;34m)\u001b[0m\u001b[0;34m:\u001b[0m\u001b[0;34m\u001b[0m\u001b[0;34m\u001b[0m\u001b[0m\n",
      "\u001b[0;31mCalledProcessError\u001b[0m: Command 'b'sudo chown ec2-user lost+found\\nsudo chgrp ec2-user lost+found\\n'' returned non-zero exit status 1."
     ]
    }
   ],
   "source": [
    "%%sh\n",
    "sudo chown ec2-user lost+found\n",
    "sudo chgrp ec2-user lost+found"
   ]
  },
  {
   "cell_type": "code",
   "execution_count": null,
   "id": "58eafcde",
   "metadata": {},
   "outputs": [],
   "source": [
    "%%sh\n",
    "ls -l"
   ]
  },
  {
   "cell_type": "code",
   "execution_count": null,
   "id": "c8270af6",
   "metadata": {},
   "outputs": [],
   "source": [
    "# Setup environment\n",
    "import sagemaker #import sagemaker\n",
    "print(sagemaker.__version__) \n",
    "sess = sagemaker.Session()                  \n",
    "role = sagemaker.get_execution_role() "
   ]
  },
  {
   "cell_type": "markdown",
   "id": "dace183d",
   "metadata": {},
   "source": [
    "## Data Loading"
   ]
  },
  {
   "cell_type": "code",
   "execution_count": null,
   "id": "2d11f184",
   "metadata": {},
   "outputs": [],
   "source": [
    "# Kaggle login\n",
    "import os\n",
    "os.environ[\"KAGGLE_USERNAME\"] = \"wdaable\"\n",
    "os.environ[\"KAGGLE_KEY\"] = \"8c751c49490a2cd7beb3c9f912893fb6\""
   ]
  },
  {
   "cell_type": "code",
   "execution_count": null,
   "id": "63793e0b",
   "metadata": {},
   "outputs": [],
   "source": [
    "# ! pip install kaggle"
   ]
  },
  {
   "cell_type": "code",
   "execution_count": null,
   "id": "98a4475c",
   "metadata": {},
   "outputs": [],
   "source": [
    "# ! kaggle datasets download tawsifurrahman/covid19-radiography-database"
   ]
  },
  {
   "cell_type": "code",
   "execution_count": null,
   "id": "869031a0",
   "metadata": {},
   "outputs": [],
   "source": [
    "# ! unzip covid19-radiography-database.zip"
   ]
  },
  {
   "cell_type": "markdown",
   "id": "5e78e6a3",
   "metadata": {},
   "source": [
    "## Pre-processing"
   ]
  },
  {
   "cell_type": "code",
   "execution_count": null,
   "id": "149e0f27",
   "metadata": {},
   "outputs": [],
   "source": [
    "# Necessary libraries\n",
    "import cv2\n",
    "import matplotlib.pyplot as plt\n",
    "import pandas as pd\n",
    "import numpy as np\n",
    "\n",
    "from tensorflow import keras\n",
    "import tensorflow as tf\n",
    "from tensorflow.keras.models import Sequential\n",
    "from tensorflow.keras.layers import Conv2D, MaxPooling2D, Flatten, Dense, BatchNormalization, GlobalAveragePooling2D, Input\n",
    "from tensorflow import keras\n",
    "\n",
    "from sklearn.metrics import confusion_matrix\n",
    "from sklearn.metrics import classification_report\n",
    "\n",
    "import seaborn as sns "
   ]
  },
  {
   "cell_type": "code",
   "execution_count": null,
   "id": "381c038d",
   "metadata": {},
   "outputs": [],
   "source": [
    "# View first image of dataset\n",
    "normal_img = cv2.imread(\"COVID-19_Radiography_Dataset/Normal/images/Normal-1.png\")\n",
    "covid_img = cv2.imread(\"COVID-19_Radiography_Dataset/COVID/images/COVID-1.png\")\n",
    "pneu_img = cv2.imread(\"COVID-19_Radiography_Dataset/Viral Pneumonia/images/Viral Pneumonia-1.png\")"
   ]
  },
  {
   "cell_type": "code",
   "execution_count": null,
   "id": "4c657c9b",
   "metadata": {},
   "outputs": [],
   "source": [
    "f = plt.figure(figsize = (20,5))\n",
    "f.add_subplot(1, 3, 1)\n",
    "plt.imshow(normal_img)\n",
    "plt.title(\"Normal\")\n",
    "\n",
    "f.add_subplot(1, 3, 2)\n",
    "plt.imshow(covid_img)\n",
    "plt.title(\"COVID\")\n",
    "\n",
    "f.add_subplot(1, 3, 3)\n",
    "plt.imshow(pneu_img)\n",
    "plt.title(\"Viral Pneumonia\")\n",
    "\n",
    "plt.tight_layout()\n",
    "plt.show()"
   ]
  },
  {
   "cell_type": "code",
   "execution_count": null,
   "id": "2d8c9080",
   "metadata": {},
   "outputs": [],
   "source": [
    "# Check shapes\n",
    "print(f\"Shape of Normal Image: {normal_img.shape}\")\n",
    "print(f\"Shape of COVID Image: {covid_img.shape}\")\n",
    "print(f\"Shape of pneumonia Image: {pneu_img.shape}\")"
   ]
  },
  {
   "cell_type": "code",
   "execution_count": null,
   "id": "8622b697",
   "metadata": {},
   "outputs": [],
   "source": [
    "path = os.listdir('COVID-19_Radiography_Dataset/COVID/images')\n",
    "\n",
    "print(path[:10])\n",
    "print(len(path))"
   ]
  },
  {
   "cell_type": "code",
   "execution_count": null,
   "id": "50745de3",
   "metadata": {},
   "outputs": [],
   "source": [
    "print(f\"COVID-19_Radiography_Dataset/COVID/images/{path[0]}\")"
   ]
  },
  {
   "cell_type": "code",
   "execution_count": null,
   "id": "1c914923",
   "metadata": {},
   "outputs": [],
   "source": [
    "# Create function to return images and labels\n",
    "def load_images(path, label):\n",
    "    images = []\n",
    "    labels = []\n",
    "    urls = os.listdir(path)\n",
    "    for i in range(len(urls)):\n",
    "        img_path = f\"{path}/{urls[i]}\"\n",
    "        img = cv2.imread(img_path)\n",
    "        # Resize the images\n",
    "        img = cv2.resize(img, (224, 224))\n",
    "        images.append(img)\n",
    "        labels.append(label)\n",
    "    images = np.asarray(images)\n",
    "    return images, labels"
   ]
  },
  {
   "cell_type": "code",
   "execution_count": null,
   "id": "d0504f5e",
   "metadata": {},
   "outputs": [],
   "source": [
    "path = \"COVID-19_Radiography_Dataset/Normal/images\"\n",
    "normal_images, normal_labels = load_images(path, 0)\n",
    "\n",
    "# Check length of images to os directory\n",
    "print(len(os.listdir(path)))\n",
    "print(len(normal_images))\n",
    "print(normal_images.shape)"
   ]
  },
  {
   "cell_type": "code",
   "execution_count": null,
   "id": "a725ae38",
   "metadata": {},
   "outputs": [],
   "source": [
    "path = \"COVID-19_Radiography_Dataset/COVID/images\"\n",
    "COVID_images, COVID_labels = load_images(path, 1)\n",
    "\n",
    "# Check length of images to os directory\n",
    "print(len(os.listdir(path)))\n",
    "print(len(COVID_images))\n",
    "print(COVID_images.shape)"
   ]
  },
  {
   "cell_type": "code",
   "execution_count": null,
   "id": "f9d36121",
   "metadata": {},
   "outputs": [],
   "source": [
    "path = \"COVID-19_Radiography_Dataset/Viral Pneumonia/images\"\n",
    "pneu_images, pneu_labels = load_images(path, 2)\n",
    "\n",
    "# Check length of images to os directory\n",
    "print(len(os.listdir(path)))\n",
    "print(len(pneu_images))\n",
    "print(pneu_images.shape)"
   ]
  },
  {
   "cell_type": "code",
   "execution_count": null,
   "id": "869602b6",
   "metadata": {},
   "outputs": [],
   "source": [
    "# Join all images and labels together\n",
    "x = np.r_[normal_images, COVID_images, pneu_images]\n",
    "y = np.r_[normal_labels, COVID_labels, pneu_labels]\n",
    "\n",
    "# Check\n",
    "print(x.shape)\n",
    "print(y.shape)"
   ]
  },
  {
   "cell_type": "code",
   "execution_count": null,
   "id": "1a8f66a2",
   "metadata": {},
   "outputs": [],
   "source": [
    "# Split data\n",
    "from sklearn.model_selection import train_test_split\n",
    "x_train, x_test, y_train, y_test = train_test_split(x, y, test_size=0.2)\n",
    "\n",
    "# Check\n",
    "print(f\"Shape of X Train: {x_train.shape}\")\n",
    "print(f\"Shape of Y Train: {y_train.shape}\")\n",
    "print(f\"Shape of X Test: {x_test.shape}\")\n",
    "print(f\"Shape of Y Test: {y_test.shape}\")"
   ]
  },
  {
   "cell_type": "code",
   "execution_count": null,
   "id": "d58c56bf",
   "metadata": {},
   "outputs": [],
   "source": [
    "y_test"
   ]
  },
  {
   "cell_type": "code",
   "execution_count": null,
   "id": "cb8b543d",
   "metadata": {},
   "outputs": [],
   "source": [
    "# Store the data to the notebook, then to AWS bucket\n",
    "os.makedirs(\"./data\", exist_ok=True)\n",
    "np.savez('./data/training', image=x_train, label=y_train)\n",
    "np.savez('./data/test', image=x_test, label=y_test)"
   ]
  },
  {
   "cell_type": "code",
   "execution_count": null,
   "id": "64bc6d0d",
   "metadata": {},
   "outputs": [],
   "source": [
    "# Save to to AWS bucket\n",
    "prefix = \"Capstone\" \n",
    "\n",
    "training_input_path = sess.upload_data('data/training.npz', key_prefix = prefix+'/training')\n",
    "test_input_path = sess.upload_data('data/test.npz', key_prefix = prefix+'/validation')\n",
    "\n",
    "# Check paths\n",
    "print(training_input_path)\n",
    "print(test_input_path)"
   ]
  },
  {
   "cell_type": "code",
   "execution_count": null,
   "id": "1d620f31",
   "metadata": {},
   "outputs": [],
   "source": [
    "# training_input_path = \"s3://sagemaker-ap-southeast-1-875555675952/Capstone/training/training.npz\"\n",
    "# test_input_path = \"s3://sagemaker-ap-southeast-1-875555675952/Capstone/validation/test.npz\""
   ]
  },
  {
   "cell_type": "markdown",
   "id": "b111687b",
   "metadata": {},
   "source": [
    "## Initialise the Model"
   ]
  },
  {
   "cell_type": "code",
   "execution_count": null,
   "id": "a9176eb3",
   "metadata": {},
   "outputs": [],
   "source": [
    "from sagemaker.tensorflow import TensorFlow\n",
    "# location to store models\n",
    "model_location = 's3://sagemaker-ap-southeast-1-875555675952/models'\n",
    "\n",
    "cnn_model = TensorFlow(entry_point='MA3832_Capstone_Model.py',  #Python script\n",
    "                          base_job_name='',\n",
    "                          source_dir='.',\n",
    "                          role=role,\n",
    "                          instance_count=1, \n",
    "                          instance_type='ml.m4.xlarge', # instance type\n",
    "                          framework_version='2.1.0', # Tensorflow version\n",
    "                          py_version='py3',\n",
    "                          script_mode=True,\n",
    "                          hyperparameters={'epochs': 10},\n",
    "                           output_path=model_location,\n",
    "                          ## after this line, everything is optional for managed spot instance\n",
    "                          use_spot_instances=True,        # Use spot instance\n",
    "                          max_run=3600,                    # Max training time\n",
    "                          max_wait=7200,                  # Max training time + spot waiting time\n",
    "                         )"
   ]
  },
  {
   "cell_type": "code",
   "execution_count": null,
   "id": "12c1849c",
   "metadata": {
    "scrolled": true
   },
   "outputs": [],
   "source": [
    "cnn_model.fit({'training': training_input_path, 'validation': test_input_path})"
   ]
  },
  {
   "cell_type": "code",
   "execution_count": null,
   "id": "5783e7fc",
   "metadata": {},
   "outputs": [],
   "source": [
    "# Deploy model as an endpoint \n",
    "proposed_predictor = cnn_model.deploy(initial_instance_count=1, # The initial number of instances to run in the Endpoint created from this Model.\n",
    "                                      instance_type='ml.t2.medium', # The EC2 instance type to deploy this Model to.\n",
    "                                      endpoint_name=\"proposed-CNN-model\") # The name of the endpoint to create  \n",
    "\n"
   ]
  },
  {
   "cell_type": "markdown",
   "id": "778a8c9c",
   "metadata": {},
   "source": [
    "## Evaluation"
   ]
  },
  {
   "cell_type": "code",
   "execution_count": null,
   "id": "e9e66dc5",
   "metadata": {},
   "outputs": [],
   "source": [
    "# import io\n",
    "# import json\n",
    "# import boto3\n",
    "# client = boto3.client('sagemaker-runtime') \n",
    "# test_file = io.StringIO()\n",
    "# x_test[:1000].to_txt(test_file, header=None, index=None)\n",
    "# ioc_predictor_endpoint_name = 'proposed-CNN-model'\n",
    "# content_type = 'application/json' \n",
    "# ioc_response = client.invoke_endpoint(\n",
    "# EndpointName=ioc_predictor_endpoint_name,\n",
    "# Body=x_test,\n",
    "# ContentType=content_type\n",
    "# )"
   ]
  },
  {
   "cell_type": "code",
   "execution_count": null,
   "id": "496617b0",
   "metadata": {},
   "outputs": [],
   "source": [
    "# proposed_predictor.delete_endpoint()"
   ]
  }
 ],
 "metadata": {
  "kernelspec": {
   "display_name": "Python 3 (ipykernel)",
   "language": "python",
   "name": "python3"
  },
  "language_info": {
   "codemirror_mode": {
    "name": "ipython",
    "version": 3
   },
   "file_extension": ".py",
   "mimetype": "text/x-python",
   "name": "python",
   "nbconvert_exporter": "python",
   "pygments_lexer": "ipython3",
   "version": "3.9.13"
  }
 },
 "nbformat": 4,
 "nbformat_minor": 5
}
